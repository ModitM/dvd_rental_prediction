{
 "cells": [
  {
   "cell_type": "markdown",
   "id": "753c24ef-6395-4082-a40d-7e382d296e1f",
   "metadata": {},
   "source": [
    "## Predicting number of days for which customer will rent a DVD for effective inventory planning"
   ]
  },
  {
   "cell_type": "code",
   "execution_count": 2,
   "id": "a7ede566-910a-445c-b11a-68d192ac8506",
   "metadata": {
    "executionCancelledAt": null,
    "executionTime": 11,
    "lastExecutedAt": 1719923523229,
    "lastExecutedByKernel": "ea94587d-172a-4f6d-b936-e457bea60e49",
    "lastScheduledRunId": null,
    "lastSuccessfullyExecutedCode": "import pandas as pd\nimport numpy as np\nimport matplotlib.pyplot as plt\nimport seaborn as sns\n\nfrom sklearn.model_selection import train_test_split\nfrom sklearn.metrics import mean_squared_error as MSE"
   },
   "outputs": [],
   "source": [
    "# Importing libraries\n",
    "import pandas as pd\n",
    "import numpy as np\n",
    "import matplotlib.pyplot as plt\n",
    "import seaborn as sns"
   ]
  },
  {
   "cell_type": "markdown",
   "id": "35c9e09c-6b3f-49bd-947a-20f78c26631b",
   "metadata": {},
   "source": [
    "### Basic information about data"
   ]
  },
  {
   "cell_type": "code",
   "execution_count": 4,
   "id": "2b895381-aa0b-4b99-89be-adf03351df51",
   "metadata": {
    "executionCancelledAt": null,
    "executionTime": 81,
    "lastExecutedAt": 1719923523310,
    "lastExecutedByKernel": "ea94587d-172a-4f6d-b936-e457bea60e49",
    "lastScheduledRunId": null,
    "lastSuccessfullyExecutedCode": "rental_info = pd.read_csv('rental_info.csv')\nrental_info.head()\nrental_info.info()\nrental_info.describe().T\nrental_info.shape",
    "outputsMetadata": {
     "0": {
      "height": 467,
      "type": "stream"
     },
     "1": {
      "height": 318,
      "type": "dataFrame"
     }
    }
   },
   "outputs": [
    {
     "data": {
      "text/html": [
       "<div>\n",
       "<style scoped>\n",
       "    .dataframe tbody tr th:only-of-type {\n",
       "        vertical-align: middle;\n",
       "    }\n",
       "\n",
       "    .dataframe tbody tr th {\n",
       "        vertical-align: top;\n",
       "    }\n",
       "\n",
       "    .dataframe thead th {\n",
       "        text-align: right;\n",
       "    }\n",
       "</style>\n",
       "<table border=\"1\" class=\"dataframe\">\n",
       "  <thead>\n",
       "    <tr style=\"text-align: right;\">\n",
       "      <th></th>\n",
       "      <th>rental_date</th>\n",
       "      <th>return_date</th>\n",
       "      <th>amount</th>\n",
       "      <th>release_year</th>\n",
       "      <th>rental_rate</th>\n",
       "      <th>length</th>\n",
       "      <th>replacement_cost</th>\n",
       "      <th>special_features</th>\n",
       "      <th>NC-17</th>\n",
       "      <th>PG</th>\n",
       "      <th>PG-13</th>\n",
       "      <th>R</th>\n",
       "      <th>amount_2</th>\n",
       "      <th>length_2</th>\n",
       "      <th>rental_rate_2</th>\n",
       "    </tr>\n",
       "  </thead>\n",
       "  <tbody>\n",
       "    <tr>\n",
       "      <th>0</th>\n",
       "      <td>2005-05-25 02:54:33+00:00</td>\n",
       "      <td>2005-05-28 23:40:33+00:00</td>\n",
       "      <td>2.99</td>\n",
       "      <td>2005.0</td>\n",
       "      <td>2.99</td>\n",
       "      <td>126.0</td>\n",
       "      <td>16.99</td>\n",
       "      <td>{Trailers,\"Behind the Scenes\"}</td>\n",
       "      <td>0</td>\n",
       "      <td>0</td>\n",
       "      <td>0</td>\n",
       "      <td>1</td>\n",
       "      <td>8.9401</td>\n",
       "      <td>15876.0</td>\n",
       "      <td>8.9401</td>\n",
       "    </tr>\n",
       "    <tr>\n",
       "      <th>1</th>\n",
       "      <td>2005-06-15 23:19:16+00:00</td>\n",
       "      <td>2005-06-18 19:24:16+00:00</td>\n",
       "      <td>2.99</td>\n",
       "      <td>2005.0</td>\n",
       "      <td>2.99</td>\n",
       "      <td>126.0</td>\n",
       "      <td>16.99</td>\n",
       "      <td>{Trailers,\"Behind the Scenes\"}</td>\n",
       "      <td>0</td>\n",
       "      <td>0</td>\n",
       "      <td>0</td>\n",
       "      <td>1</td>\n",
       "      <td>8.9401</td>\n",
       "      <td>15876.0</td>\n",
       "      <td>8.9401</td>\n",
       "    </tr>\n",
       "    <tr>\n",
       "      <th>2</th>\n",
       "      <td>2005-07-10 04:27:45+00:00</td>\n",
       "      <td>2005-07-17 10:11:45+00:00</td>\n",
       "      <td>2.99</td>\n",
       "      <td>2005.0</td>\n",
       "      <td>2.99</td>\n",
       "      <td>126.0</td>\n",
       "      <td>16.99</td>\n",
       "      <td>{Trailers,\"Behind the Scenes\"}</td>\n",
       "      <td>0</td>\n",
       "      <td>0</td>\n",
       "      <td>0</td>\n",
       "      <td>1</td>\n",
       "      <td>8.9401</td>\n",
       "      <td>15876.0</td>\n",
       "      <td>8.9401</td>\n",
       "    </tr>\n",
       "    <tr>\n",
       "      <th>3</th>\n",
       "      <td>2005-07-31 12:06:41+00:00</td>\n",
       "      <td>2005-08-02 14:30:41+00:00</td>\n",
       "      <td>2.99</td>\n",
       "      <td>2005.0</td>\n",
       "      <td>2.99</td>\n",
       "      <td>126.0</td>\n",
       "      <td>16.99</td>\n",
       "      <td>{Trailers,\"Behind the Scenes\"}</td>\n",
       "      <td>0</td>\n",
       "      <td>0</td>\n",
       "      <td>0</td>\n",
       "      <td>1</td>\n",
       "      <td>8.9401</td>\n",
       "      <td>15876.0</td>\n",
       "      <td>8.9401</td>\n",
       "    </tr>\n",
       "    <tr>\n",
       "      <th>4</th>\n",
       "      <td>2005-08-19 12:30:04+00:00</td>\n",
       "      <td>2005-08-23 13:35:04+00:00</td>\n",
       "      <td>2.99</td>\n",
       "      <td>2005.0</td>\n",
       "      <td>2.99</td>\n",
       "      <td>126.0</td>\n",
       "      <td>16.99</td>\n",
       "      <td>{Trailers,\"Behind the Scenes\"}</td>\n",
       "      <td>0</td>\n",
       "      <td>0</td>\n",
       "      <td>0</td>\n",
       "      <td>1</td>\n",
       "      <td>8.9401</td>\n",
       "      <td>15876.0</td>\n",
       "      <td>8.9401</td>\n",
       "    </tr>\n",
       "  </tbody>\n",
       "</table>\n",
       "</div>"
      ],
      "text/plain": [
       "                 rental_date                return_date  amount  release_year  \\\n",
       "0  2005-05-25 02:54:33+00:00  2005-05-28 23:40:33+00:00    2.99        2005.0   \n",
       "1  2005-06-15 23:19:16+00:00  2005-06-18 19:24:16+00:00    2.99        2005.0   \n",
       "2  2005-07-10 04:27:45+00:00  2005-07-17 10:11:45+00:00    2.99        2005.0   \n",
       "3  2005-07-31 12:06:41+00:00  2005-08-02 14:30:41+00:00    2.99        2005.0   \n",
       "4  2005-08-19 12:30:04+00:00  2005-08-23 13:35:04+00:00    2.99        2005.0   \n",
       "\n",
       "   rental_rate  length  replacement_cost                special_features  \\\n",
       "0         2.99   126.0             16.99  {Trailers,\"Behind the Scenes\"}   \n",
       "1         2.99   126.0             16.99  {Trailers,\"Behind the Scenes\"}   \n",
       "2         2.99   126.0             16.99  {Trailers,\"Behind the Scenes\"}   \n",
       "3         2.99   126.0             16.99  {Trailers,\"Behind the Scenes\"}   \n",
       "4         2.99   126.0             16.99  {Trailers,\"Behind the Scenes\"}   \n",
       "\n",
       "   NC-17  PG  PG-13  R  amount_2  length_2  rental_rate_2  \n",
       "0      0   0      0  1    8.9401   15876.0         8.9401  \n",
       "1      0   0      0  1    8.9401   15876.0         8.9401  \n",
       "2      0   0      0  1    8.9401   15876.0         8.9401  \n",
       "3      0   0      0  1    8.9401   15876.0         8.9401  \n",
       "4      0   0      0  1    8.9401   15876.0         8.9401  "
      ]
     },
     "execution_count": 4,
     "metadata": {},
     "output_type": "execute_result"
    }
   ],
   "source": [
    "# Reading CSV file\n",
    "rental_info = pd.read_csv('rental_info.csv')\n",
    "rental_info.head()"
   ]
  },
  {
   "cell_type": "code",
   "execution_count": 5,
   "id": "419ffaec-0eee-4ff6-8173-640894a798f4",
   "metadata": {},
   "outputs": [
    {
     "data": {
      "text/plain": [
       "(15861, 15)"
      ]
     },
     "execution_count": 5,
     "metadata": {},
     "output_type": "execute_result"
    }
   ],
   "source": [
    "# Dimension of data frame\n",
    "rental_info.shape"
   ]
  },
  {
   "cell_type": "code",
   "execution_count": 6,
   "id": "8615b109-e143-4f1d-8ac3-ae8d5e9a60d0",
   "metadata": {},
   "outputs": [
    {
     "name": "stdout",
     "output_type": "stream",
     "text": [
      "<class 'pandas.core.frame.DataFrame'>\n",
      "RangeIndex: 15861 entries, 0 to 15860\n",
      "Data columns (total 15 columns):\n",
      " #   Column            Non-Null Count  Dtype  \n",
      "---  ------            --------------  -----  \n",
      " 0   rental_date       15861 non-null  object \n",
      " 1   return_date       15861 non-null  object \n",
      " 2   amount            15861 non-null  float64\n",
      " 3   release_year      15861 non-null  float64\n",
      " 4   rental_rate       15861 non-null  float64\n",
      " 5   length            15861 non-null  float64\n",
      " 6   replacement_cost  15861 non-null  float64\n",
      " 7   special_features  15861 non-null  object \n",
      " 8   NC-17             15861 non-null  int64  \n",
      " 9   PG                15861 non-null  int64  \n",
      " 10  PG-13             15861 non-null  int64  \n",
      " 11  R                 15861 non-null  int64  \n",
      " 12  amount_2          15861 non-null  float64\n",
      " 13  length_2          15861 non-null  float64\n",
      " 14  rental_rate_2     15861 non-null  float64\n",
      "dtypes: float64(8), int64(4), object(3)\n",
      "memory usage: 1.8+ MB\n"
     ]
    }
   ],
   "source": [
    "# Basic information about columns\n",
    "rental_info.info()"
   ]
  },
  {
   "cell_type": "code",
   "execution_count": 7,
   "id": "570834de-32c8-452f-a00c-c87c4808a01e",
   "metadata": {},
   "outputs": [
    {
     "data": {
      "text/html": [
       "<div>\n",
       "<style scoped>\n",
       "    .dataframe tbody tr th:only-of-type {\n",
       "        vertical-align: middle;\n",
       "    }\n",
       "\n",
       "    .dataframe tbody tr th {\n",
       "        vertical-align: top;\n",
       "    }\n",
       "\n",
       "    .dataframe thead th {\n",
       "        text-align: right;\n",
       "    }\n",
       "</style>\n",
       "<table border=\"1\" class=\"dataframe\">\n",
       "  <thead>\n",
       "    <tr style=\"text-align: right;\">\n",
       "      <th></th>\n",
       "      <th>count</th>\n",
       "      <th>mean</th>\n",
       "      <th>std</th>\n",
       "      <th>min</th>\n",
       "      <th>25%</th>\n",
       "      <th>50%</th>\n",
       "      <th>75%</th>\n",
       "      <th>max</th>\n",
       "    </tr>\n",
       "  </thead>\n",
       "  <tbody>\n",
       "    <tr>\n",
       "      <th>amount</th>\n",
       "      <td>15861.0</td>\n",
       "      <td>4.217161</td>\n",
       "      <td>2.360383</td>\n",
       "      <td>0.9900</td>\n",
       "      <td>2.9900</td>\n",
       "      <td>3.9900</td>\n",
       "      <td>4.9900</td>\n",
       "      <td>11.9900</td>\n",
       "    </tr>\n",
       "    <tr>\n",
       "      <th>release_year</th>\n",
       "      <td>15861.0</td>\n",
       "      <td>2006.885379</td>\n",
       "      <td>2.025027</td>\n",
       "      <td>2004.0000</td>\n",
       "      <td>2005.0000</td>\n",
       "      <td>2007.0000</td>\n",
       "      <td>2009.0000</td>\n",
       "      <td>2010.0000</td>\n",
       "    </tr>\n",
       "    <tr>\n",
       "      <th>rental_rate</th>\n",
       "      <td>15861.0</td>\n",
       "      <td>2.944101</td>\n",
       "      <td>1.649766</td>\n",
       "      <td>0.9900</td>\n",
       "      <td>0.9900</td>\n",
       "      <td>2.9900</td>\n",
       "      <td>4.9900</td>\n",
       "      <td>4.9900</td>\n",
       "    </tr>\n",
       "    <tr>\n",
       "      <th>length</th>\n",
       "      <td>15861.0</td>\n",
       "      <td>114.994578</td>\n",
       "      <td>40.114715</td>\n",
       "      <td>46.0000</td>\n",
       "      <td>81.0000</td>\n",
       "      <td>114.0000</td>\n",
       "      <td>148.0000</td>\n",
       "      <td>185.0000</td>\n",
       "    </tr>\n",
       "    <tr>\n",
       "      <th>replacement_cost</th>\n",
       "      <td>15861.0</td>\n",
       "      <td>20.224727</td>\n",
       "      <td>6.083784</td>\n",
       "      <td>9.9900</td>\n",
       "      <td>14.9900</td>\n",
       "      <td>20.9900</td>\n",
       "      <td>25.9900</td>\n",
       "      <td>29.9900</td>\n",
       "    </tr>\n",
       "    <tr>\n",
       "      <th>NC-17</th>\n",
       "      <td>15861.0</td>\n",
       "      <td>0.204842</td>\n",
       "      <td>0.403599</td>\n",
       "      <td>0.0000</td>\n",
       "      <td>0.0000</td>\n",
       "      <td>0.0000</td>\n",
       "      <td>0.0000</td>\n",
       "      <td>1.0000</td>\n",
       "    </tr>\n",
       "    <tr>\n",
       "      <th>PG</th>\n",
       "      <td>15861.0</td>\n",
       "      <td>0.200303</td>\n",
       "      <td>0.400239</td>\n",
       "      <td>0.0000</td>\n",
       "      <td>0.0000</td>\n",
       "      <td>0.0000</td>\n",
       "      <td>0.0000</td>\n",
       "      <td>1.0000</td>\n",
       "    </tr>\n",
       "    <tr>\n",
       "      <th>PG-13</th>\n",
       "      <td>15861.0</td>\n",
       "      <td>0.223378</td>\n",
       "      <td>0.416523</td>\n",
       "      <td>0.0000</td>\n",
       "      <td>0.0000</td>\n",
       "      <td>0.0000</td>\n",
       "      <td>0.0000</td>\n",
       "      <td>1.0000</td>\n",
       "    </tr>\n",
       "    <tr>\n",
       "      <th>R</th>\n",
       "      <td>15861.0</td>\n",
       "      <td>0.198726</td>\n",
       "      <td>0.399054</td>\n",
       "      <td>0.0000</td>\n",
       "      <td>0.0000</td>\n",
       "      <td>0.0000</td>\n",
       "      <td>0.0000</td>\n",
       "      <td>1.0000</td>\n",
       "    </tr>\n",
       "    <tr>\n",
       "      <th>amount_2</th>\n",
       "      <td>15861.0</td>\n",
       "      <td>23.355504</td>\n",
       "      <td>23.503164</td>\n",
       "      <td>0.9801</td>\n",
       "      <td>8.9401</td>\n",
       "      <td>15.9201</td>\n",
       "      <td>24.9001</td>\n",
       "      <td>143.7601</td>\n",
       "    </tr>\n",
       "    <tr>\n",
       "      <th>length_2</th>\n",
       "      <td>15861.0</td>\n",
       "      <td>14832.841876</td>\n",
       "      <td>9393.431996</td>\n",
       "      <td>2116.0000</td>\n",
       "      <td>6561.0000</td>\n",
       "      <td>12996.0000</td>\n",
       "      <td>21904.0000</td>\n",
       "      <td>34225.0000</td>\n",
       "    </tr>\n",
       "    <tr>\n",
       "      <th>rental_rate_2</th>\n",
       "      <td>15861.0</td>\n",
       "      <td>11.389287</td>\n",
       "      <td>10.005293</td>\n",
       "      <td>0.9801</td>\n",
       "      <td>0.9801</td>\n",
       "      <td>8.9401</td>\n",
       "      <td>24.9001</td>\n",
       "      <td>24.9001</td>\n",
       "    </tr>\n",
       "  </tbody>\n",
       "</table>\n",
       "</div>"
      ],
      "text/plain": [
       "                    count          mean          std        min        25%  \\\n",
       "amount            15861.0      4.217161     2.360383     0.9900     2.9900   \n",
       "release_year      15861.0   2006.885379     2.025027  2004.0000  2005.0000   \n",
       "rental_rate       15861.0      2.944101     1.649766     0.9900     0.9900   \n",
       "length            15861.0    114.994578    40.114715    46.0000    81.0000   \n",
       "replacement_cost  15861.0     20.224727     6.083784     9.9900    14.9900   \n",
       "NC-17             15861.0      0.204842     0.403599     0.0000     0.0000   \n",
       "PG                15861.0      0.200303     0.400239     0.0000     0.0000   \n",
       "PG-13             15861.0      0.223378     0.416523     0.0000     0.0000   \n",
       "R                 15861.0      0.198726     0.399054     0.0000     0.0000   \n",
       "amount_2          15861.0     23.355504    23.503164     0.9801     8.9401   \n",
       "length_2          15861.0  14832.841876  9393.431996  2116.0000  6561.0000   \n",
       "rental_rate_2     15861.0     11.389287    10.005293     0.9801     0.9801   \n",
       "\n",
       "                         50%         75%         max  \n",
       "amount                3.9900      4.9900     11.9900  \n",
       "release_year       2007.0000   2009.0000   2010.0000  \n",
       "rental_rate           2.9900      4.9900      4.9900  \n",
       "length              114.0000    148.0000    185.0000  \n",
       "replacement_cost     20.9900     25.9900     29.9900  \n",
       "NC-17                 0.0000      0.0000      1.0000  \n",
       "PG                    0.0000      0.0000      1.0000  \n",
       "PG-13                 0.0000      0.0000      1.0000  \n",
       "R                     0.0000      0.0000      1.0000  \n",
       "amount_2             15.9201     24.9001    143.7601  \n",
       "length_2          12996.0000  21904.0000  34225.0000  \n",
       "rental_rate_2         8.9401     24.9001     24.9001  "
      ]
     },
     "execution_count": 7,
     "metadata": {},
     "output_type": "execute_result"
    }
   ],
   "source": [
    "# Descriptive statistics of numerical columns\n",
    "rental_info.describe().T"
   ]
  },
  {
   "cell_type": "markdown",
   "id": "f29e0f9e-3a2d-4754-9edc-66ac1614f875",
   "metadata": {},
   "source": [
    "### Exploratory Data Analysis"
   ]
  },
  {
   "cell_type": "code",
   "execution_count": 9,
   "id": "f8600c92-a6df-460e-8672-b5dc8297cdea",
   "metadata": {
    "executionCancelledAt": null,
    "executionTime": 58,
    "lastExecutedAt": 1719923523368,
    "lastExecutedByKernel": "ea94587d-172a-4f6d-b936-e457bea60e49",
    "lastScheduledRunId": null,
    "lastSuccessfullyExecutedCode": "# Check for missing values\nrental_info.isna().sum()",
    "outputsMetadata": {
     "0": {
      "height": 318,
      "type": "dataFrame"
     }
    }
   },
   "outputs": [
    {
     "data": {
      "text/plain": [
       "rental_date         0\n",
       "return_date         0\n",
       "amount              0\n",
       "release_year        0\n",
       "rental_rate         0\n",
       "length              0\n",
       "replacement_cost    0\n",
       "special_features    0\n",
       "NC-17               0\n",
       "PG                  0\n",
       "PG-13               0\n",
       "R                   0\n",
       "amount_2            0\n",
       "length_2            0\n",
       "rental_rate_2       0\n",
       "dtype: int64"
      ]
     },
     "execution_count": 9,
     "metadata": {},
     "output_type": "execute_result"
    }
   ],
   "source": [
    "# Check for missing values\n",
    "rental_info.isna().sum()"
   ]
  },
  {
   "cell_type": "code",
   "execution_count": 10,
   "id": "56b4d55d-9291-4b6a-8b5c-17ec6f32929e",
   "metadata": {
    "executionCancelledAt": null,
    "executionTime": 56,
    "lastExecutedAt": 1719923523424,
    "lastExecutedByKernel": "ea94587d-172a-4f6d-b936-e457bea60e49",
    "lastScheduledRunId": null,
    "lastSuccessfullyExecutedCode": "# Changing the data types of required columns\nrental_info['rental_date'] = pd.to_datetime(rental_info['rental_date'])\nrental_info['return_date'] = pd.to_datetime(rental_info['return_date'])\nrental_info['release_year'] = rental_info['release_year'].astype(int)\n\n# Checking for data types\nrental_info.dtypes"
   },
   "outputs": [
    {
     "data": {
      "text/plain": [
       "rental_date         datetime64[ns, UTC]\n",
       "return_date         datetime64[ns, UTC]\n",
       "amount                          float64\n",
       "release_year                      int32\n",
       "rental_rate                     float64\n",
       "length                          float64\n",
       "replacement_cost                float64\n",
       "special_features                 object\n",
       "NC-17                             int64\n",
       "PG                                int64\n",
       "PG-13                             int64\n",
       "R                                 int64\n",
       "amount_2                        float64\n",
       "length_2                        float64\n",
       "rental_rate_2                   float64\n",
       "dtype: object"
      ]
     },
     "execution_count": 10,
     "metadata": {},
     "output_type": "execute_result"
    }
   ],
   "source": [
    "# Changing the data types of required columns\n",
    "rental_info['rental_date'] = pd.to_datetime(rental_info['rental_date'])\n",
    "rental_info['return_date'] = pd.to_datetime(rental_info['return_date'])\n",
    "rental_info['release_year'] = rental_info['release_year'].astype(int)\n",
    "\n",
    "# Checking for data types\n",
    "rental_info.dtypes"
   ]
  },
  {
   "cell_type": "code",
   "execution_count": 11,
   "id": "6e776b59-6608-43f9-bad8-e829506608bf",
   "metadata": {
    "executionCancelledAt": null,
    "executionTime": 48,
    "lastExecutedAt": 1719923523523,
    "lastExecutedByKernel": "ea94587d-172a-4f6d-b936-e457bea60e49",
    "lastScheduledRunId": null,
    "lastSuccessfullyExecutedCode": "# Determing for how many days the DVD has been rented and adding it to dataframe\nrental_info[\"rental_length_days\"] = (rental_info['return_date'] - rental_info['rental_date']).dt.days\nrental_info.shape"
   },
   "outputs": [
    {
     "data": {
      "text/plain": [
       "(15861, 16)"
      ]
     },
     "execution_count": 11,
     "metadata": {},
     "output_type": "execute_result"
    }
   ],
   "source": [
    "# Determing the number of days for which DVD has been rented and adding it to dataframe\n",
    "rental_info[\"rental_length_days\"] = (rental_info['return_date'] - rental_info['rental_date']).dt.days\n",
    "rental_info.shape"
   ]
  },
  {
   "cell_type": "markdown",
   "id": "5abb9bf7-39c0-40d2-ac0a-db8172885e4a",
   "metadata": {},
   "source": [
    "#### Dummy Variables for 'special_features' column"
   ]
  },
  {
   "cell_type": "code",
   "execution_count": 13,
   "id": "255513ab-97f3-4821-85b1-712c51316f06",
   "metadata": {},
   "outputs": [
    {
     "data": {
      "text/plain": [
       "['{Trailers,\"Behind the Scenes\"}',\n",
       " '{Trailers}',\n",
       " '{Commentaries,\"Behind the Scenes\"}',\n",
       " '{Trailers,Commentaries}',\n",
       " '{\"Deleted Scenes\",\"Behind the Scenes\"}',\n",
       " '{Commentaries,\"Deleted Scenes\",\"Behind the Scenes\"}',\n",
       " '{Trailers,Commentaries,\"Deleted Scenes\"}',\n",
       " '{\"Behind the Scenes\"}',\n",
       " '{Trailers,\"Deleted Scenes\",\"Behind the Scenes\"}',\n",
       " '{Commentaries,\"Deleted Scenes\"}',\n",
       " '{Commentaries}',\n",
       " '{Trailers,Commentaries,\"Behind the Scenes\"}',\n",
       " '{Trailers,\"Deleted Scenes\"}',\n",
       " '{\"Deleted Scenes\"}',\n",
       " '{Trailers,Commentaries,\"Deleted Scenes\",\"Behind the Scenes\"}']"
      ]
     },
     "execution_count": 13,
     "metadata": {},
     "output_type": "execute_result"
    }
   ],
   "source": [
    "# Contents of special_features column as list structure\n",
    "contents = list(rental_info['special_features'].unique())\n",
    "contents"
   ]
  },
  {
   "cell_type": "code",
   "execution_count": 14,
   "id": "900db27e-d30b-40b4-b455-4086f1222448",
   "metadata": {},
   "outputs": [
    {
     "data": {
      "text/plain": [
       "['Trailers',\n",
       " 'Behind the Scenes',\n",
       " 'Trailers',\n",
       " 'Commentaries',\n",
       " 'Behind the Scenes',\n",
       " 'Trailers',\n",
       " 'Commentaries',\n",
       " 'Deleted Scenes',\n",
       " 'Behind the Scenes',\n",
       " 'Commentaries',\n",
       " 'Deleted Scenes',\n",
       " 'Behind the Scenes',\n",
       " 'Trailers',\n",
       " 'Commentaries',\n",
       " 'Deleted Scenes',\n",
       " 'Behind the Scenes',\n",
       " 'Trailers',\n",
       " 'Deleted Scenes',\n",
       " 'Behind the Scenes',\n",
       " 'Commentaries',\n",
       " 'Deleted Scenes',\n",
       " 'Commentaries',\n",
       " 'Trailers',\n",
       " 'Commentaries',\n",
       " 'Behind the Scenes',\n",
       " 'Trailers',\n",
       " 'Deleted Scenes',\n",
       " 'Deleted Scenes',\n",
       " 'Trailers',\n",
       " 'Commentaries',\n",
       " 'Deleted Scenes',\n",
       " 'Behind the Scenes']"
      ]
     },
     "execution_count": 14,
     "metadata": {},
     "output_type": "execute_result"
    }
   ],
   "source": [
    "# Since there are many items in each content, we need to extract individual items using the 'for' loop\n",
    "items =[]\n",
    "for i in contents:\n",
    "    m = i.replace(\"{\",'').replace('}','').replace('\"','').split(',')\n",
    "    for j in range(len(m)):\n",
    "        items.append(m[j])\n",
    "items"
   ]
  },
  {
   "cell_type": "code",
   "execution_count": 15,
   "id": "95a3e4ec-6e9e-4eb5-b109-a07fa63c2e0d",
   "metadata": {},
   "outputs": [
    {
     "data": {
      "text/plain": [
       "array(['Trailers', 'Behind the Scenes', 'Commentaries', 'Deleted Scenes'],\n",
       "      dtype=object)"
      ]
     },
     "execution_count": 15,
     "metadata": {},
     "output_type": "execute_result"
    }
   ],
   "source": [
    "# Extracting unique items from the items list\n",
    "items_s = pd.Series(items).unique()\n",
    "items_s"
   ]
  },
  {
   "cell_type": "code",
   "execution_count": 16,
   "id": "4100f8f7-ee75-4f86-a0d7-67baecc06bec",
   "metadata": {},
   "outputs": [
    {
     "data": {
      "text/html": [
       "<div>\n",
       "<style scoped>\n",
       "    .dataframe tbody tr th:only-of-type {\n",
       "        vertical-align: middle;\n",
       "    }\n",
       "\n",
       "    .dataframe tbody tr th {\n",
       "        vertical-align: top;\n",
       "    }\n",
       "\n",
       "    .dataframe thead th {\n",
       "        text-align: right;\n",
       "    }\n",
       "</style>\n",
       "<table border=\"1\" class=\"dataframe\">\n",
       "  <thead>\n",
       "    <tr style=\"text-align: right;\">\n",
       "      <th></th>\n",
       "      <th>rental_date</th>\n",
       "      <th>return_date</th>\n",
       "      <th>amount</th>\n",
       "      <th>release_year</th>\n",
       "      <th>rental_rate</th>\n",
       "      <th>length</th>\n",
       "      <th>replacement_cost</th>\n",
       "      <th>special_features</th>\n",
       "      <th>NC-17</th>\n",
       "      <th>PG</th>\n",
       "      <th>PG-13</th>\n",
       "      <th>R</th>\n",
       "      <th>amount_2</th>\n",
       "      <th>length_2</th>\n",
       "      <th>rental_rate_2</th>\n",
       "      <th>rental_length_days</th>\n",
       "      <th>Trailers</th>\n",
       "      <th>Behind the Scenes</th>\n",
       "      <th>Commentaries</th>\n",
       "      <th>Deleted Scenes</th>\n",
       "    </tr>\n",
       "  </thead>\n",
       "  <tbody>\n",
       "    <tr>\n",
       "      <th>0</th>\n",
       "      <td>2005-05-25 02:54:33+00:00</td>\n",
       "      <td>2005-05-28 23:40:33+00:00</td>\n",
       "      <td>2.99</td>\n",
       "      <td>2005</td>\n",
       "      <td>2.99</td>\n",
       "      <td>126.0</td>\n",
       "      <td>16.99</td>\n",
       "      <td>{Trailers,\"Behind the Scenes\"}</td>\n",
       "      <td>0</td>\n",
       "      <td>0</td>\n",
       "      <td>0</td>\n",
       "      <td>1</td>\n",
       "      <td>8.9401</td>\n",
       "      <td>15876.0</td>\n",
       "      <td>8.9401</td>\n",
       "      <td>3</td>\n",
       "      <td>1</td>\n",
       "      <td>1</td>\n",
       "      <td>0</td>\n",
       "      <td>0</td>\n",
       "    </tr>\n",
       "    <tr>\n",
       "      <th>1</th>\n",
       "      <td>2005-06-15 23:19:16+00:00</td>\n",
       "      <td>2005-06-18 19:24:16+00:00</td>\n",
       "      <td>2.99</td>\n",
       "      <td>2005</td>\n",
       "      <td>2.99</td>\n",
       "      <td>126.0</td>\n",
       "      <td>16.99</td>\n",
       "      <td>{Trailers,\"Behind the Scenes\"}</td>\n",
       "      <td>0</td>\n",
       "      <td>0</td>\n",
       "      <td>0</td>\n",
       "      <td>1</td>\n",
       "      <td>8.9401</td>\n",
       "      <td>15876.0</td>\n",
       "      <td>8.9401</td>\n",
       "      <td>2</td>\n",
       "      <td>1</td>\n",
       "      <td>1</td>\n",
       "      <td>0</td>\n",
       "      <td>0</td>\n",
       "    </tr>\n",
       "    <tr>\n",
       "      <th>2</th>\n",
       "      <td>2005-07-10 04:27:45+00:00</td>\n",
       "      <td>2005-07-17 10:11:45+00:00</td>\n",
       "      <td>2.99</td>\n",
       "      <td>2005</td>\n",
       "      <td>2.99</td>\n",
       "      <td>126.0</td>\n",
       "      <td>16.99</td>\n",
       "      <td>{Trailers,\"Behind the Scenes\"}</td>\n",
       "      <td>0</td>\n",
       "      <td>0</td>\n",
       "      <td>0</td>\n",
       "      <td>1</td>\n",
       "      <td>8.9401</td>\n",
       "      <td>15876.0</td>\n",
       "      <td>8.9401</td>\n",
       "      <td>7</td>\n",
       "      <td>1</td>\n",
       "      <td>1</td>\n",
       "      <td>0</td>\n",
       "      <td>0</td>\n",
       "    </tr>\n",
       "    <tr>\n",
       "      <th>3</th>\n",
       "      <td>2005-07-31 12:06:41+00:00</td>\n",
       "      <td>2005-08-02 14:30:41+00:00</td>\n",
       "      <td>2.99</td>\n",
       "      <td>2005</td>\n",
       "      <td>2.99</td>\n",
       "      <td>126.0</td>\n",
       "      <td>16.99</td>\n",
       "      <td>{Trailers,\"Behind the Scenes\"}</td>\n",
       "      <td>0</td>\n",
       "      <td>0</td>\n",
       "      <td>0</td>\n",
       "      <td>1</td>\n",
       "      <td>8.9401</td>\n",
       "      <td>15876.0</td>\n",
       "      <td>8.9401</td>\n",
       "      <td>2</td>\n",
       "      <td>1</td>\n",
       "      <td>1</td>\n",
       "      <td>0</td>\n",
       "      <td>0</td>\n",
       "    </tr>\n",
       "    <tr>\n",
       "      <th>4</th>\n",
       "      <td>2005-08-19 12:30:04+00:00</td>\n",
       "      <td>2005-08-23 13:35:04+00:00</td>\n",
       "      <td>2.99</td>\n",
       "      <td>2005</td>\n",
       "      <td>2.99</td>\n",
       "      <td>126.0</td>\n",
       "      <td>16.99</td>\n",
       "      <td>{Trailers,\"Behind the Scenes\"}</td>\n",
       "      <td>0</td>\n",
       "      <td>0</td>\n",
       "      <td>0</td>\n",
       "      <td>1</td>\n",
       "      <td>8.9401</td>\n",
       "      <td>15876.0</td>\n",
       "      <td>8.9401</td>\n",
       "      <td>4</td>\n",
       "      <td>1</td>\n",
       "      <td>1</td>\n",
       "      <td>0</td>\n",
       "      <td>0</td>\n",
       "    </tr>\n",
       "  </tbody>\n",
       "</table>\n",
       "</div>"
      ],
      "text/plain": [
       "                rental_date               return_date  amount  release_year  \\\n",
       "0 2005-05-25 02:54:33+00:00 2005-05-28 23:40:33+00:00    2.99          2005   \n",
       "1 2005-06-15 23:19:16+00:00 2005-06-18 19:24:16+00:00    2.99          2005   \n",
       "2 2005-07-10 04:27:45+00:00 2005-07-17 10:11:45+00:00    2.99          2005   \n",
       "3 2005-07-31 12:06:41+00:00 2005-08-02 14:30:41+00:00    2.99          2005   \n",
       "4 2005-08-19 12:30:04+00:00 2005-08-23 13:35:04+00:00    2.99          2005   \n",
       "\n",
       "   rental_rate  length  replacement_cost                special_features  \\\n",
       "0         2.99   126.0             16.99  {Trailers,\"Behind the Scenes\"}   \n",
       "1         2.99   126.0             16.99  {Trailers,\"Behind the Scenes\"}   \n",
       "2         2.99   126.0             16.99  {Trailers,\"Behind the Scenes\"}   \n",
       "3         2.99   126.0             16.99  {Trailers,\"Behind the Scenes\"}   \n",
       "4         2.99   126.0             16.99  {Trailers,\"Behind the Scenes\"}   \n",
       "\n",
       "   NC-17  PG  PG-13  R  amount_2  length_2  rental_rate_2  rental_length_days  \\\n",
       "0      0   0      0  1    8.9401   15876.0         8.9401                   3   \n",
       "1      0   0      0  1    8.9401   15876.0         8.9401                   2   \n",
       "2      0   0      0  1    8.9401   15876.0         8.9401                   7   \n",
       "3      0   0      0  1    8.9401   15876.0         8.9401                   2   \n",
       "4      0   0      0  1    8.9401   15876.0         8.9401                   4   \n",
       "\n",
       "   Trailers  Behind the Scenes  Commentaries  Deleted Scenes  \n",
       "0         1                  1             0               0  \n",
       "1         1                  1             0               0  \n",
       "2         1                  1             0               0  \n",
       "3         1                  1             0               0  \n",
       "4         1                  1             0               0  "
      ]
     },
     "execution_count": 16,
     "metadata": {},
     "output_type": "execute_result"
    }
   ],
   "source": [
    "# Dummy variable for each item in special_features column\n",
    "for i in items_s:\n",
    "    rental_info[i] = np.where(rental_info[\"special_features\"].str.contains(i), 1,0)\n",
    "rental_info.head()"
   ]
  },
  {
   "cell_type": "markdown",
   "id": "0e2abfda-84a8-4ca8-bfba-a8834afdbc26",
   "metadata": {},
   "source": [
    "### Machine Learning Prediction Modelling"
   ]
  },
  {
   "cell_type": "code",
   "execution_count": 18,
   "id": "ae541b9e-7122-41b3-9aa1-550273810083",
   "metadata": {
    "collapsed": false,
    "executionCancelledAt": null,
    "executionTime": 50,
    "jupyter": {
     "outputs_hidden": false,
     "source_hidden": false
    },
    "lastExecutedAt": 1719923523629,
    "lastExecutedByKernel": "ea94587d-172a-4f6d-b936-e457bea60e49",
    "lastScheduledRunId": null,
    "lastSuccessfullyExecutedCode": "# Splitting the data into feature and target variables \nX = rental_info.drop(columns = ['rental_date', 'return_date', 'special_features', 'rental_length_days'])\ny = rental_info['rental_length_days']\n\n# Further splitting data into train and test sets\nX_train, X_test, y_train, y_test = train_test_split(X, y, test_size=0.2, random_state=51)\nX_train.shape"
   },
   "outputs": [
    {
     "data": {
      "text/plain": [
       "(12688, 16)"
      ]
     },
     "execution_count": 18,
     "metadata": {},
     "output_type": "execute_result"
    }
   ],
   "source": [
    "# Splitting the data into feature and target variables \n",
    "cols_drop = ['rental_date', 'return_date', 'special_features', 'rental_length_days']\n",
    "X = rental_info.drop(columns = cols_drop)\n",
    "y = rental_info['rental_length_days']\n",
    "\n",
    "# Further splitting data into train and test sets\n",
    "from sklearn.model_selection import train_test_split\n",
    "X_train, X_test, y_train, y_test = train_test_split(X, y, test_size=0.2, random_state=51)\n",
    "X_train.shape"
   ]
  },
  {
   "cell_type": "markdown",
   "id": "94f82791-4a6b-48ce-beb9-f3f75aa43c12",
   "metadata": {},
   "source": [
    "#### Linear Regression with lasso features"
   ]
  },
  {
   "cell_type": "code",
   "execution_count": 20,
   "id": "cd835a8c-5d79-4822-b3bb-761f9cd45095",
   "metadata": {
    "collapsed": false,
    "executionCancelledAt": null,
    "executionTime": 210,
    "jupyter": {
     "outputs_hidden": false,
     "source_hidden": false
    },
    "lastExecutedAt": 1719923523890,
    "lastExecutedByKernel": "ea94587d-172a-4f6d-b936-e457bea60e49",
    "lastScheduledRunId": null,
    "lastSuccessfullyExecutedCode": "# Feature selection for Linear Regrssion using non-zero Lasso coefficients\n\nfrom sklearn.linear_model import Lasso\nlasso = Lasso(alpha=0.3)\nlasso.fit(X_train, y_train)\n#plt.bar(x=X_train.columns, height=lasso.coef_)\n#plt.xticks(rotation=90)\n#plt.show()\nfeatures = (X_train.columns[lasso.coef_ != 0])\nfeatures",
    "outputsMetadata": {
     "1": {
      "height": 194,
      "type": "dataFrame"
     },
     "11": {
      "height": 38,
      "type": "stream"
     },
     "3": {
      "height": 38,
      "type": "stream"
     },
     "5": {
      "height": 38,
      "type": "stream"
     },
     "7": {
      "height": 38,
      "type": "stream"
     },
     "9": {
      "height": 38,
      "type": "stream"
     }
    }
   },
   "outputs": [
    {
     "data": {
      "image/png": "[encoded data removed]",
      "text/plain": [
       "<Figure size 640x480 with 1 Axes>"
      ]
     },
     "metadata": {},
     "output_type": "display_data"
    },
    {
     "data": {
      "text/plain": [
       "array([ 5.83523704e-01,  0.00000000e+00, -0.00000000e+00,  0.00000000e+00,\n",
       "       -0.00000000e+00,  0.00000000e+00, -0.00000000e+00,  0.00000000e+00,\n",
       "       -0.00000000e+00,  4.32781723e-02,  3.22239892e-06, -1.51745353e-01,\n",
       "       -0.00000000e+00,  0.00000000e+00,  0.00000000e+00, -0.00000000e+00])"
      ]
     },
     "execution_count": 20,
     "metadata": {},
     "output_type": "execute_result"
    }
   ],
   "source": [
    "# Determining lasso coefficients for feature selection\n",
    "\n",
    "from sklearn.linear_model import Lasso\n",
    "lasso = Lasso(alpha=0.3)\n",
    "lasso.fit(X_train, y_train)\n",
    "coef = lasso.coef_\n",
    "\n",
    "# Plotting lasso coefficients\n",
    "plt.barh(width = coef, y=X.columns)\n",
    "plt.show()\n",
    "coef"
   ]
  },
  {
   "cell_type": "code",
   "execution_count": 21,
   "id": "a8066005-5f5c-4a1a-b182-70a50c6c4c79",
   "metadata": {},
   "outputs": [
    {
     "data": {
      "text/plain": [
       "Index(['amount', 'amount_2', 'length_2', 'rental_rate_2'], dtype='object')"
      ]
     },
     "execution_count": 21,
     "metadata": {},
     "output_type": "execute_result"
    }
   ],
   "source": [
    "# Feature selection for Linear Regression using non-zero Lasso coefficients\n",
    "features = (X_train.columns[coef != 0])\n",
    "features"
   ]
  },
  {
   "cell_type": "code",
   "execution_count": 22,
   "id": "10413bd9-f436-44bb-b278-eec8e9214ab0",
   "metadata": {
    "executionCancelledAt": null,
    "executionTime": 102,
    "lastExecutedAt": 1719923523993,
    "lastExecutedByKernel": "ea94587d-172a-4f6d-b936-e457bea60e49",
    "lastScheduledRunId": null,
    "lastSuccessfullyExecutedCode": "# Scaling and Linear Regrssion in pipeline\n\nfrom sklearn.preprocessing import StandardScaler\nfrom sklearn.linear_model import LinearRegression\nfrom sklearn.pipeline import make_pipeline\n\n# Initializing pipeline\nscale = StandardScaler()\nlr = LinearRegression()\npipeline = make_pipeline(scale, lr)\n\n# Featured data from X_train and X_test\nX_train_f, X_test_f = X_train[features], X_test[features]\n\n# Fitting featured data into the model\npipeline.fit(X_train_f, y_train)\n\n# Prediction for X_test_f\npred_lr = pipeline.predict(X_test_f)\n\n# Determining root mean squared error for linear regression model\nmse_lr = MSE(y_test, pred_lr)\nmse_lr",
    "outputsMetadata": {
     "0": {
      "height": 38,
      "type": "stream"
     }
    }
   },
   "outputs": [
    {
     "data": {
      "text/plain": [
       "array([6.20733224, 2.99169866, 6.34201089, ..., 2.61113682, 2.56126426,\n",
       "       6.06798421])"
      ]
     },
     "execution_count": 22,
     "metadata": {},
     "output_type": "execute_result"
    }
   ],
   "source": [
    "# Scaling and Linear Regression in the pipeline\n",
    "\n",
    "from sklearn.preprocessing import StandardScaler\n",
    "from sklearn.linear_model import LinearRegression\n",
    "from sklearn.pipeline import make_pipeline\n",
    "from sklearn.metrics import mean_squared_error as MSE\n",
    "\n",
    "# Initializing pipeline\n",
    "scale = StandardScaler()\n",
    "lr = LinearRegression()\n",
    "pipeline = make_pipeline(scale, lr)\n",
    "\n",
    "# Featured data from X_train and X_test\n",
    "X_train_f, X_test_f = X_train[features], X_test[features]\n",
    "\n",
    "# Fitting featured data into the model\n",
    "pipeline.fit(X_train_f, y_train)\n",
    "\n",
    "# Prediction for X_test_f\n",
    "pred_lr = pipeline.predict(X_test_f)\n",
    "pred_lr"
   ]
  },
  {
   "cell_type": "code",
   "execution_count": 23,
   "id": "335935d8-0025-4d3f-9e96-d1c7f0613d1e",
   "metadata": {},
   "outputs": [
    {
     "data": {
      "text/plain": [
       "2.9474442949778803"
      ]
     },
     "execution_count": 23,
     "metadata": {},
     "output_type": "execute_result"
    }
   ],
   "source": [
    "# Determining mean squared error for linear regression model\n",
    "mse_lr = MSE(y_test, pred_lr)\n",
    "mse_lr"
   ]
  },
  {
   "cell_type": "markdown",
   "id": "69979e32-4865-44e9-896c-21669bc8859a",
   "metadata": {},
   "source": [
    "#### Random Forest Regressor"
   ]
  },
  {
   "cell_type": "code",
   "execution_count": 25,
   "id": "19ed2ba7-fe76-457f-8b94-750bef884b0e",
   "metadata": {
    "executionCancelledAt": null,
    "executionTime": 22986,
    "lastExecutedAt": 1719923546979,
    "lastExecutedByKernel": "ea94587d-172a-4f6d-b936-e457bea60e49",
    "lastScheduledRunId": null,
    "lastSuccessfullyExecutedCode": "# Creating Random Forest Regressor Model and hyperparameter tuning it with Randomized Search cross validation\n\nfrom sklearn.ensemble import RandomForestRegressor\nfrom sklearn.model_selection import RandomizedSearchCV\n\nrf = RandomForestRegressor()\n\n# Hyperparameter space of random forest\nhyp_param = {'n_estimators' : np.arange(1,101,1),\n             'max_depth' : np.arange(1,11,1)}\n\n# Best hyperparameters using randomised search cross validation\nrs_cv = RandomizedSearchCV(rf,\n                           param_distributions= hyp_param,\n                           cv = 5,\n                           random_state= 14)\nrs_cv.fit(X_train, y_train)\nbest_hyp_param = rs_cv.best_params_\nbest_hyp_param"
   },
   "outputs": [
    {
     "data": {
      "text/plain": [
       "{'n_estimators': 62, 'max_depth': 8}"
      ]
     },
     "execution_count": 25,
     "metadata": {},
     "output_type": "execute_result"
    }
   ],
   "source": [
    "# Creating a Random Forest Regressor Model and hyperparameter tuning it with Randomized Search cross-validation\n",
    "\n",
    "from sklearn.ensemble import RandomForestRegressor\n",
    "from sklearn.model_selection import RandomizedSearchCV\n",
    "\n",
    "rf = RandomForestRegressor()\n",
    "\n",
    "# Hyperparameter space of random forest\n",
    "hyp_param = {'n_estimators' : np.arange(1,101,1),\n",
    "             'max_depth' : np.arange(1,11,1)}\n",
    "\n",
    "# Best hyperparameters using randomized search cross-validation\n",
    "rs_cv = RandomizedSearchCV(rf,\n",
    "                           param_distributions= hyp_param,\n",
    "                           cv = 5,\n",
    "                           random_state= 14)\n",
    "rs_cv.fit(X_train, y_train)\n",
    "best_hyp_param = rs_cv.best_params_\n",
    "best_hyp_param"
   ]
  },
  {
   "cell_type": "code",
   "execution_count": 26,
   "id": "2c53f463-b6df-4646-8572-b5487578eefb",
   "metadata": {
    "executionCancelledAt": null,
    "executionTime": 933,
    "lastExecutedAt": 1719923547913,
    "lastExecutedByKernel": "ea94587d-172a-4f6d-b936-e457bea60e49",
    "lastScheduledRunId": null,
    "lastSuccessfullyExecutedCode": "# Using rf model using best hyper-parameters\nrf = RandomForestRegressor(n_estimators=best_hyp_param['n_estimators'],\n                           max_depth=best_hyp_param['max_depth'])\nrf.fit(X_train, y_train)\npred_rf = rf.predict(X_test)\nmse_rf = MSE(y_test, pred_rf)\nmse_rf"
   },
   "outputs": [
    {
     "data": {
      "text/plain": [
       "array([6.54628755, 2.46932465, 6.93437087, ..., 2.83813557, 2.49704779,\n",
       "       6.71019998])"
      ]
     },
     "execution_count": 26,
     "metadata": {},
     "output_type": "execute_result"
    }
   ],
   "source": [
    "# Applying Random Forest Regressor model using best hyper-parameters\n",
    "rf = RandomForestRegressor(n_estimators=best_hyp_param['n_estimators'],\n",
    "                           max_depth=best_hyp_param['max_depth'])\n",
    "rf.fit(X_train, y_train)\n",
    "pred_rf = rf.predict(X_test)\n",
    "pred_rf"
   ]
  },
  {
   "cell_type": "code",
   "execution_count": 27,
   "id": "ae801cec-e4b0-4b0c-a5f7-89598ed5d3ec",
   "metadata": {},
   "outputs": [
    {
     "data": {
      "image/png": "[encoded data removed]",
      "text/plain": [
       "<Figure size 640x480 with 1 Axes>"
      ]
     },
     "metadata": {},
     "output_type": "display_data"
    },
    {
     "data": {
      "text/plain": [
       "Index(['amount', 'rental_rate', 'amount_2', 'rental_rate_2'], dtype='object')"
      ]
     },
     "execution_count": 27,
     "metadata": {},
     "output_type": "execute_result"
    }
   ],
   "source": [
    "# Features weightage given by random forest regressor model\n",
    "wt = rf.feature_importances_\n",
    "\n",
    "# Vizualising feature importance\n",
    "plt.barh(y = X.columns, width = wt)\n",
    "plt.show()\n",
    "\n",
    "# Selecting columns having greater than 5% weightage\n",
    "X.columns[wt > 0.05]"
   ]
  },
  {
   "cell_type": "code",
   "execution_count": 28,
   "id": "77f4afbb-5428-4e47-b98c-42395752d010",
   "metadata": {},
   "outputs": [
    {
     "data": {
      "text/plain": [
       "2.3133075312351346"
      ]
     },
     "execution_count": 28,
     "metadata": {},
     "output_type": "execute_result"
    }
   ],
   "source": [
    "# Determining mean squared error for random forest regression model\n",
    "mse_rf = MSE(y_test, pred_rf)\n",
    "mse_rf"
   ]
  },
  {
   "cell_type": "markdown",
   "id": "78dc723f-3698-46a0-9933-2f26d035c33e",
   "metadata": {},
   "source": [
    "### Model Comparision"
   ]
  },
  {
   "cell_type": "code",
   "execution_count": 30,
   "id": "8012c93a-d5cd-4b01-abbd-7f9cc8d022d7",
   "metadata": {
    "executionCancelledAt": null,
    "executionTime": 12,
    "lastExecutedAt": 1719924668021,
    "lastExecutedByKernel": "ea94587d-172a-4f6d-b936-e457bea60e49",
    "lastScheduledRunId": null,
    "lastSuccessfullyExecutedCode": "models = ['linear regression', 'random forest regressor']\nmse = [mse_lr, mse_rf]\nmodel_stats = pd.Series(mse, index=models)\nbest_model = model_stats.idxmin()\nbest_mse = model_stats.min().round(3)\nprint(f'Best model among {len(models)} models is {best_model} with mean squared error {best_mse}.')",
    "outputsMetadata": {
     "0": {
      "height": 38,
      "type": "stream"
     }
    }
   },
   "outputs": [
    {
     "name": "stdout",
     "output_type": "stream",
     "text": [
      "Best model among 2 models is RandomForestRegressor(max_depth=8, n_estimators=62) with mean squared error 2.313.\n"
     ]
    }
   ],
   "source": [
    "# Deciding the best model among all models\n",
    "models = [lr, rf]\n",
    "mse = [mse_lr, mse_rf]\n",
    "model_stats = pd.Series(mse, index=models)\n",
    "best_model = model_stats.idxmin()\n",
    "best_mse = round(model_stats.min(),3)\n",
    "print(f'Best model among {len(models)} models is {best_model} with mean squared error {best_mse}.')"
   ]
  }
 ],
 "metadata": {
  "colab": {
   "name": "Welcome to DataCamp Workspaces.ipynb",
   "provenance": []
  },
  "kernelspec": {
   "display_name": "Python 3 (ipykernel)",
   "language": "python",
   "name": "python3"
  },
  "language_info": {
   "codemirror_mode": {
    "name": "ipython",
    "version": 3
   },
   "file_extension": ".py",
   "mimetype": "text/x-python",
   "name": "python",
   "nbconvert_exporter": "python",
   "pygments_lexer": "ipython3",
   "version": "3.11.7"
  }
 },
 "nbformat": 4,
 "nbformat_minor": 5
}
